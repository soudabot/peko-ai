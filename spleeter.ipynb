{
  "cells": [
    {
      "cell_type": "markdown",
      "metadata": {
        "id": "K6mcSc0mmp3i"
      },
      "source": [
        "# Instalar sleepter"
      ]
    },
    {
      "cell_type": "code",
      "execution_count": null,
      "metadata": {
        "id": "V_6Ram1lmc1F"
      },
      "outputs": [],
      "source": [
        "from IPython.display import Audio\n",
        "!apt install ffmpeg\n",
        "!pip install spleeter"
      ]
    },
    {
      "cell_type": "markdown",
      "metadata": {
        "id": "afbcUSken16L"
      },
      "source": [
        "# Separar audio de la voz"
      ]
    },
    {
      "cell_type": "code",
      "execution_count": null,
      "metadata": {
        "id": "ibG6uF55p4lH"
      },
      "outputs": [],
      "source": [
        "AUDIO = \"\" #@param {type:\"string\"}\n",
        "!wget $AUDIO -O audio.mp3\n",
        "!rm -rf output && mkdir output\n",
        "!spleeter separate -o output/ audio.mp3"
      ]
    },
    {
      "cell_type": "code",
      "execution_count": null,
      "metadata": {
        "id": "e7CHpyiloxrk",
        "cellView": "form"
      },
      "outputs": [],
      "source": [
        "#@title Mostrar voz separada\n",
        "Audio('output/audio/vocals.wav')"
      ]
    },
    {
      "cell_type": "code",
      "execution_count": null,
      "metadata": {
        "id": "ibXd-WCTpT0w",
        "cellView": "form"
      },
      "outputs": [],
      "source": [
        "#@title Mostrar instumental separada\n",
        "Audio('output/audio/accompaniment.wav')"
      ]
    }
  ],
  "metadata": {
    "colab": {
      "name": "spleeter.ipynb",
      "provenance": []
    },
    "kernelspec": {
      "display_name": "Python 3",
      "name": "python3"
    }
  },
  "nbformat": 4,
  "nbformat_minor": 0
}