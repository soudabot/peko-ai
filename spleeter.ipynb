{
  "cells": [
    {
      "cell_type": "markdown",
      "metadata": {
        "id": "K6mcSc0mmp3i"
      },
      "source": [
        "# Install spleeter"
      ]
    },
    {
      "cell_type": "code",
      "execution_count": null,
      "metadata": {
        "id": "f8Brdfh6mzEz"
      },
      "outputs": [],
      "source": [
        "!apt install ffmpeg"
      ]
    },
    {
      "cell_type": "code",
      "execution_count": null,
      "metadata": {
        "id": "V_6Ram1lmc1F"
      },
      "outputs": [],
      "source": [
        "pip install spleeter"
      ]
    },
    {
      "cell_type": "code",
      "execution_count": null,
      "metadata": {
        "id": "W0LktyMypXqE"
      },
      "outputs": [],
      "source": [
        "from IPython.display import Audio"
      ]
    },
    {
      "cell_type": "markdown",
      "metadata": {
        "id": "afbcUSken16L"
      },
      "source": [
        "# Separate from command line"
      ]
    },
    {
      "cell_type": "code",
      "execution_count": null,
      "metadata": {
        "id": "O1kQaoJSoAD0"
      },
      "outputs": [],
      "source": [
        "!curl -l https://urltomp3.file -o audio.mp3"
      ]
    },
    {
      "cell_type": "code",
      "execution_count": null,
      "metadata": {
        "id": "ibG6uF55p4lH"
      },
      "outputs": [],
      "source": [
        "!rm -rf output && mkdir output"
      ]
    },
    {
      "cell_type": "code",
      "execution_count": null,
      "metadata": {
        "id": "dGL-k5xxoKbu"
      },
      "outputs": [],
      "source": [
        "!spleeter separate -o output/ audio.mp3"
      ]
    },
    {
      "cell_type": "code",
      "execution_count": null,
      "metadata": {
        "id": "e7CHpyiloxrk"
      },
      "outputs": [],
      "source": [
        "Audio('output/audio/vocals.wav')"
      ]
    },
    {
      "cell_type": "code",
      "execution_count": null,
      "metadata": {
        "id": "ibXd-WCTpT0w"
      },
      "outputs": [],
      "source": [
        "Audio('output/audio/accompaniment.wav')"
      ]
    }
  ],
  "metadata": {
    "colab": {
      "name": "spleeter.ipynb",
      "provenance": []
    },
    "kernelspec": {
      "display_name": "Python 3",
      "name": "python3"
    }
  },
  "nbformat": 4,
  "nbformat_minor": 0
}