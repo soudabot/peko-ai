{
  "cells": [
    {
      "cell_type": "markdown",
      "metadata": {
        "id": "WJ1P-v38q3kZ"
      },
      "source": [
        "Este ipynb no contiene las caracteristicas de uso para entrenar un modelo solo contiene las necesarias para ejecutar el programa con modelos pre-definidos. Si quieres usar este programa para entrenar a un modelo utiliza el original"
      ]
    },
    {
      "cell_type": "code",
      "execution_count": null,
      "metadata": {
        "cellView": "form",
        "id": "U6WqoJESq3kp"
      },
      "outputs": [],
      "source": [
        "#@title Instalar dependencias\n",
        "#@markdown Si pip falla o se muestra un error cuando termine ignoralo y ve a el siguiente paso.\n",
        "!python -m pip install -U pip wheel\n",
        "%pip install -U ipython \n",
        "\n",
        "#@markdown Branch: Dejala en \"none\" si no sabes lo que estas haciendo\n",
        "BRANCH = \"none\" #@param {\"type\": \"string\"}\n",
        "if BRANCH == \"none\":\n",
        "    %pip install -U so-vits-svc-fork\n",
        "else:\n",
        "    %pip install -U git+https://github.com/34j/so-vits-svc-fork.git@{BRANCH}"
      ]
    },
    {
      "cell_type": "code",
      "execution_count": null,
      "metadata": {
        "id": "1vGGHat9q3kp",
        "cellView": "form"
      },
      "outputs": [],
      "source": [
        "#@title Archivos a usar\n",
        "#@markdown 1.- Link del audio a usar. NECESITA SER WAV (https://example.com/audio.wav)\n",
        "\n",
        "#@markdown 2.- Link del modelo. (https://example.com/G24100.pth)\n",
        "\n",
        "#@markdown 3.- Nombre de modelo. (G24100 este se encuentra antes del .pth)\n",
        "\n",
        "#@markdown 4.- Link a el archivo de configuracion (https://example.com/config.json)\n",
        "AUDIO = \"\" #@param {\"type\": \"string\"}\n",
        "PTH = \"\" #@param {\"type\": \"string\"}\n",
        "PTH_NAME = \"\" #@param {\"type\": \"string\"}\n",
        "CONFIG_FILE = \"\" #@param {type:\"string\"}\n",
        "!wget \"$AUDIO\" -O index.wav\n",
        "!wget \"$PTH\" -O $PTH_NAME\n",
        "!wget -N \"$CONFIG_FILE\""
      ]
    },
    {
      "cell_type": "code",
      "execution_count": null,
      "metadata": {
        "id": "aOw4lFcDq3kp"
      },
      "outputs": [],
      "source": [
        "#@title Proceso de la AI\n",
        "from IPython.display import Audio\n",
        "!svc infer index.wav -c config.json -m $PTH_NAME\n",
        "Audio(\"index.out.wav\")"
      ]
    }
  ],
  "metadata": {
    "accelerator": "GPU",
    "colab": {
      "provenance": []
    },
    "gpuClass": "standard",
    "kernelspec": {
      "display_name": "Python 3",
      "name": "python3"
    },
    "language_info": {
      "codemirror_mode": {
        "name": "ipython",
        "version": 3
      },
      "file_extension": ".py",
      "mimetype": "text/x-python",
      "name": "python",
      "nbconvert_exporter": "python",
      "pygments_lexer": "ipython3"
    }
  },
  "nbformat": 4,
  "nbformat_minor": 0
}